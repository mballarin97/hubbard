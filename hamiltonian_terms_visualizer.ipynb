{
 "cells": [
  {
   "cell_type": "code",
   "execution_count": null,
   "metadata": {},
   "outputs": [],
   "source": [
    "from copy import deepcopy\n",
    "import hubbard as hbb\n",
    "import numpy as np\n",
    "import scipy.sparse as sp\n",
    "from qiskit import AncillaRegister, ClassicalRegister, QuantumCircuit\n",
    "import qmatchatea as qtea\n",
    "from qmatchatea.py_emulator import QcMps\n",
    "from qmatchatea.preprocessing import _preprocess_qk\n",
    "\n",
    "from hubbard.hamiltonian_terms import hopping_hamiltonian\n",
    "from hubbard.utils import _lattice_state, _printable_site_str\n",
    "import os\n",
    "\n",
    "import matplotlib.pyplot as plt"
   ]
  },
  {
   "cell_type": "code",
   "execution_count": null,
   "metadata": {},
   "outputs": [],
   "source": []
  },
  {
   "cell_type": "code",
   "execution_count": null,
   "metadata": {},
   "outputs": [],
   "source": [
    "# Vertexes definition\n",
    "shape = (4, 2)\n",
    "vertexes = [(ii, jj) for jj in range(shape[1]) for ii in range(shape[0])]\n",
    "sites = [f\"q({ii}, {jj})\" for jj in range(shape[1]) for ii in range(shape[0])]\n",
    "site_ordering = []\n",
    "idx = 0\n",
    "for ii, jj in vertexes:\n",
    "    if (ii+jj)%2==0:\n",
    "        site_ordering += [idx, idx+1]\n",
    "    else:\n",
    "        site_ordering += [idx+1, idx]\n",
    "    idx += 2\n",
    "# Plaquettes definition\n",
    "plaquettes = [(ii, jj) for jj in range(shape[1]-1) for ii in range(shape[0]-1) ]\n",
    "# Number of link qubits\n",
    "num_links = shape[0]*(shape[1]-1) + shape[1]*(shape[0]-1)\n",
    "num_qubs = 2*len(vertexes) + num_links + 1\n",
    "qancilla = AncillaRegister(1, 'a0')\n",
    "cancillas = [ClassicalRegister(1, f'ca{ii}') for ii in range(len(plaquettes)+len(vertexes)+1)]\n",
    "\n",
    "# ============= Initialize Hubbard circuit =============\n",
    "regs, qc = hbb.hubbard_circuit(shape, qancilla, cancillas )"
   ]
  },
  {
   "cell_type": "code",
   "execution_count": null,
   "metadata": {},
   "outputs": [],
   "source": [
    "# Define the Hamiltonian\n",
    "onsite_const = 1\n",
    "hopping_const = 0.1\n",
    "total_hamiltonian = {}\n",
    "onsite_hamiltonian = hbb.onsite_hamiltonian(qc, regs, shape, onsite_const)\n",
    "#hopping_hamiltonian = hbb.hopping_hamiltonian(qc, regs, shape, hopping_const)\n",
    "#total_hamiltonian.update(onsite_hamiltonian)\n",
    "#hopping_hamiltonian = hbb.generate_global_hopping(qc, regs, \"lh0\", \"u\", coupling=hopping_const)\n",
    "#total_hamiltonian.update(hopping_hamiltonian)\n",
    "hopping_hamiltonian = hbb.generate_global_hopping(qc, regs, \"lh2\", \"d\", coupling=hopping_const)\n",
    "total_hamiltonian.update(hopping_hamiltonian)"
   ]
  },
  {
   "cell_type": "code",
   "execution_count": null,
   "metadata": {},
   "outputs": [],
   "source": [
    "for term, coef in total_hamiltonian.items():\n",
    "    lattice = _lattice_state(qc, term, regs, shape)\n",
    "    lattice_string = f\"{coef}\\n\"\n",
    "    for y_string_sites in lattice[::-1]:\n",
    "        lattice_string += _printable_site_str(y_string_sites)\n",
    "    \n",
    "    print(lattice_string)\n",
    "    print(\"\")"
   ]
  },
  {
   "cell_type": "code",
   "execution_count": null,
   "metadata": {},
   "outputs": [],
   "source": [
    "def simple_visualizer(shape, state):\n",
    "    state_str = []\n",
    "    current_str = \"│\"\n",
    "    vertical = \" \"*2+\"│     \"*shape[0]\n",
    "    top = \"┌─┴─┐ \"*shape[0]\n",
    "    bottom = \"└─┬─┘ \"*shape[0]\n",
    "    for jj in range(shape[1]):\n",
    "        state_str.append(bottom + \"\\n\")\n",
    "        for ii in range(shape[0]):\n",
    "            if ii>0:\n",
    "                current_str += \"┤\"\n",
    "            idx = 2*(ii+ jj*shape[0])\n",
    "            current_str += state[idx]+\",\"+state[idx+1]+\"├─\"\n",
    "        state_str.append(current_str[:-1]+\"\\n\")\n",
    "        state_str.append(top + \"\\n\")\n",
    "        if jj < shape[1]-1:\n",
    "            state_str.append(vertical+\"\\n\")\n",
    "        current_str = \"│\"\n",
    "    \n",
    "    return \"\".join(state_str[::-1])"
   ]
  },
  {
   "cell_type": "code",
   "execution_count": null,
   "metadata": {},
   "outputs": [],
   "source": [
    "shape = (4, 2)\n",
    "\n",
    "save_dir = f\"data/exact/{shape[0]}x{shape[1]}\"\n",
    "hamiltonian = np.loadtxt(os.path.join(save_dir, \"symmetric_hamiltonian.txt\"), dtype=complex)\n",
    "hamiltonian_jw = np.loadtxt(os.path.join(save_dir, \"symmetric_hamiltonian_jw.txt\"), dtype=complex)\n",
    "\n",
    "all_states = hbb.all_possible_matter_states(shape, 4, 4)\n",
    "all_state_strings = [\"\".join(list(state)) for state in all_states.astype(str) ]"
   ]
  },
  {
   "cell_type": "code",
   "execution_count": null,
   "metadata": {},
   "outputs": [],
   "source": [
    "len(all_state_strings)"
   ]
  },
  {
   "cell_type": "code",
   "execution_count": null,
   "metadata": {},
   "outputs": [],
   "source": [
    "# Alto dx, alto sx, basso dx, basso sx\n",
    "for ii, state in enumerate(all_state_strings):\n",
    "    print(ii)\n",
    "    print( simple_visualizer(shape, state) )"
   ]
  },
  {
   "cell_type": "code",
   "execution_count": null,
   "metadata": {},
   "outputs": [],
   "source": [
    "#path = [0, 3, 4, 2, 5, 3, 1, 2, 0]\n",
    "#path = [3, 4, 2, 5, 3]#, 4, 2, 5, 3]\n",
    "#path = [0, 1, 9, 4, 0]\n",
    "path = [0, 1, 4, 9, 49, 36, 25, 16, 0]\n",
    "path = [0, 1, 4, 36, 25, 16, 0]\n",
    "path = [0, 1, 25, 16, 0]"
   ]
  },
  {
   "cell_type": "code",
   "execution_count": null,
   "metadata": {},
   "outputs": [],
   "source": [
    "path = path[::-1]\n",
    "terms = []\n",
    "for ii in range(len(path)-1):\n",
    "    terms.append(\n",
    "        hamiltonian[path[ii], path[ii+1]]\n",
    "    )\n",
    "    #print(f\"from {path[ii]} to {path[ii+1]}\")\n",
    "\n",
    "prod = 1\n",
    "for term in terms:\n",
    "    prod *= term/np.abs(term)\n",
    "\n",
    "print(prod)"
   ]
  },
  {
   "cell_type": "code",
   "execution_count": null,
   "metadata": {},
   "outputs": [],
   "source": [
    "terms = []\n",
    "for ii in range(len(path)-1):\n",
    "    terms.append(\n",
    "        hamiltonian_jw[path[ii], path[ii+1]]\n",
    "    )\n",
    "\n",
    "prod = 1\n",
    "for term in terms:\n",
    "    prod *= term/np.abs(term)\n",
    "\n",
    "print(prod)"
   ]
  },
  {
   "cell_type": "code",
   "execution_count": null,
   "metadata": {},
   "outputs": [],
   "source": [
    "idx = 25\n",
    "print( np.nonzero(hamiltonian[idx, :]))\n",
    "print( np.nonzero(hamiltonian_jw[idx, :]))"
   ]
  },
  {
   "cell_type": "code",
   "execution_count": null,
   "metadata": {},
   "outputs": [],
   "source": [
    "hamiltonian_jw[25, 16]"
   ]
  },
  {
   "cell_type": "code",
   "execution_count": null,
   "metadata": {},
   "outputs": [],
   "source": [
    "(hamiltonian[25, 16], 2)"
   ]
  },
  {
   "cell_type": "code",
   "execution_count": null,
   "metadata": {},
   "outputs": [],
   "source": [
    "UU = np.diag(\n",
    "    [1j, 1j, 1j, 1j, 1j, 1j]\n",
    ")"
   ]
  },
  {
   "cell_type": "code",
   "execution_count": null,
   "metadata": {},
   "outputs": [],
   "source": [
    "np.conj(UU.T)@hamiltonian@UU/0.1"
   ]
  },
  {
   "cell_type": "code",
   "execution_count": null,
   "metadata": {},
   "outputs": [],
   "source": []
  }
 ],
 "metadata": {
  "kernelspec": {
   "display_name": "Python 3.8.10 ('py_tn')",
   "language": "python",
   "name": "python3"
  },
  "language_info": {
   "codemirror_mode": {
    "name": "ipython",
    "version": 3
   },
   "file_extension": ".py",
   "mimetype": "text/x-python",
   "name": "python",
   "nbconvert_exporter": "python",
   "pygments_lexer": "ipython3",
   "version": "3.8.10"
  },
  "orig_nbformat": 4,
  "vscode": {
   "interpreter": {
    "hash": "1179bec1c5fddea182fabcb5dabebbd9bdf30ecab3f75561b39e346176381e24"
   }
  }
 },
 "nbformat": 4,
 "nbformat_minor": 2
}
